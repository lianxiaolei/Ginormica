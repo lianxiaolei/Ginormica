{
 "cells": [
  {
   "cell_type": "code",
   "execution_count": 4,
   "metadata": {},
   "outputs": [],
   "source": [
    "from keras.models import Sequential\n",
    "from keras.layers import Convolution2D, MaxPooling2D\n",
    "from keras.layers import Activation, Dropout, Flatten, Dense\n",
    "from keras.preprocessing.image import ImageDataGenerator, array_to_img, img_to_array, load_img\n",
    "import numpy as np"
   ]
  },
  {
   "cell_type": "code",
   "execution_count": 2,
   "metadata": {},
   "outputs": [
    {
     "name": "stderr",
     "output_type": "stream",
     "text": [
      "/Users/imperatore/anaconda3/lib/python3.6/site-packages/ipykernel_launcher.py:2: UserWarning: Update your `Conv2D` call to the Keras 2 API: `Conv2D(32, (3, 3), input_shape=(150, 150,...)`\n",
      "  \n",
      "/Users/imperatore/anaconda3/lib/python3.6/site-packages/ipykernel_launcher.py:6: UserWarning: Update your `Conv2D` call to the Keras 2 API: `Conv2D(32, (3, 3))`\n",
      "  \n",
      "/Users/imperatore/anaconda3/lib/python3.6/site-packages/ipykernel_launcher.py:10: UserWarning: Update your `Conv2D` call to the Keras 2 API: `Conv2D(64, (3, 3))`\n",
      "  # Remove the CWD from sys.path while we load stuff.\n"
     ]
    }
   ],
   "source": [
    "model = Sequential()\n",
    "model.add(Convolution2D(32, 3, 3, input_shape=(150, 150, 3)))\n",
    "model.add(Activation('relu'))\n",
    "model.add(MaxPooling2D(pool_size=(2, 2)))\n",
    "\n",
    "model.add(Convolution2D(32, 3, 3))\n",
    "model.add(Activation('relu'))\n",
    "model.add(MaxPooling2D(pool_size=(2, 2)))\n",
    "\n",
    "model.add(Convolution2D(64, 3, 3))\n",
    "model.add(Activation('relu'))\n",
    "model.add(MaxPooling2D(pool_size=(2, 2)))\n",
    "\n",
    "# 单一的单元和一个sigmoid激活结束模型，因为是二分模型。使用binary_crossentropy loss。\n",
    "model.add(Flatten())  # this converts our 3D feature maps to 1D feature vectors\n",
    "model.add(Dense(64))\n",
    "model.add(Activation('relu'))\n",
    "model.add(Dropout(0.5))\n",
    "model.add(Dense(1))\n",
    "model.add(Activation('sigmoid'))\n",
    "\n",
    "model.compile(loss='binary_crossentropy', optimizer='rmsprop', metrics=['accuracy'])"
   ]
  },
  {
   "cell_type": "code",
   "execution_count": 3,
   "metadata": {},
   "outputs": [],
   "source": [
    "train_datagen = ImageDataGenerator(\n",
    "    rescale=1./255,\n",
    "    shear_range=0.2,\n",
    "    zoom_range=0.2,\n",
    "    horizontal_flip=True)\n",
    "\n",
    "test_datagen = ImageDataGenerator(rescale=1./255)"
   ]
  },
  {
   "cell_type": "code",
   "execution_count": 5,
   "metadata": {},
   "outputs": [
    {
     "name": "stdout",
     "output_type": "stream",
     "text": [
      "Found 20000 images belonging to 2 classes.\n",
      "Found 5000 images belonging to 2 classes.\n"
     ]
    }
   ],
   "source": [
    "train_generator = train_datagen.flow_from_directory(\n",
    "            '../../../../assets/dogvscat/train/',  # this is the target directory\n",
    "            target_size=(150, 150),  # all images will be resized to 150x150\n",
    "            batch_size=32,\n",
    "            class_mode='binary')  # since we use binary_crossentropy loss, we need binary labels\n",
    "    \n",
    "# this is a similar generator, for validation data\n",
    "validation_generator = test_datagen.flow_from_directory(\n",
    "            '../../../../assets/dogvscat/val/',\n",
    "            target_size=(150, 150),\n",
    "            batch_size=32,\n",
    "            class_mode='binary')"
   ]
  },
  {
   "cell_type": "code",
   "execution_count": 6,
   "metadata": {},
   "outputs": [
    {
     "name": "stderr",
     "output_type": "stream",
     "text": [
      "/Users/imperatore/anaconda3/lib/python3.6/site-packages/ipykernel_launcher.py:6: UserWarning: The semantics of the Keras 2 argument `steps_per_epoch` is not the same as the Keras 1 argument `samples_per_epoch`. `steps_per_epoch` is the number of batches to draw from the generator at each epoch. Basically steps_per_epoch = samples_per_epoch/batch_size. Similarly `nb_val_samples`->`validation_steps` and `val_samples`->`steps` arguments have changed. Update your method calls accordingly.\n",
      "  \n",
      "/Users/imperatore/anaconda3/lib/python3.6/site-packages/ipykernel_launcher.py:6: UserWarning: Update your `fit_generator` call to the Keras 2 API: `fit_generator(<keras.pre..., validation_data=<keras.pre..., steps_per_epoch=62, epochs=10, validation_steps=800)`\n",
      "  \n"
     ]
    },
    {
     "name": "stdout",
     "output_type": "stream",
     "text": [
      "Epoch 1/10\n",
      "62/62 [==============================] - 440s 7s/step - loss: 0.8039 - acc: 0.4940 - val_loss: 0.6847 - val_acc: 0.4999\n",
      "Epoch 2/10\n",
      "62/62 [==============================] - 429s 7s/step - loss: 0.7042 - acc: 0.5418 - val_loss: 0.6668 - val_acc: 0.5980\n",
      "Epoch 3/10\n",
      "62/62 [==============================] - 349s 6s/step - loss: 0.6895 - acc: 0.5771 - val_loss: 0.6503 - val_acc: 0.6370\n",
      "Epoch 4/10\n",
      "62/62 [==============================] - 363s 6s/step - loss: 0.6740 - acc: 0.5872 - val_loss: 0.6346 - val_acc: 0.6255\n",
      "Epoch 5/10\n",
      "62/62 [==============================] - 350s 6s/step - loss: 0.6437 - acc: 0.6452 - val_loss: 0.6249 - val_acc: 0.6414\n",
      "Epoch 6/10\n",
      "62/62 [==============================] - 344s 6s/step - loss: 0.6335 - acc: 0.6452 - val_loss: 0.6544 - val_acc: 0.6035\n",
      "Epoch 7/10\n",
      "62/62 [==============================] - 337s 5s/step - loss: 0.6114 - acc: 0.6779 - val_loss: 0.6167 - val_acc: 0.6831\n",
      "Epoch 8/10\n",
      "62/62 [==============================] - 324s 5s/step - loss: 0.5992 - acc: 0.6799 - val_loss: 0.6598 - val_acc: 0.6420\n",
      "Epoch 9/10\n",
      "62/62 [==============================] - 332s 5s/step - loss: 0.6157 - acc: 0.6598 - val_loss: 0.5932 - val_acc: 0.6954\n",
      "Epoch 10/10\n",
      "62/62 [==============================] - 345s 6s/step - loss: 0.6062 - acc: 0.6820 - val_loss: 0.5740 - val_acc: 0.6841\n"
     ]
    }
   ],
   "source": [
    "model.fit_generator(\n",
    "            train_generator,\n",
    "            samples_per_epoch=2000,\n",
    "            nb_epoch=10,\n",
    "            validation_data=validation_generator,\n",
    "            nb_val_samples=800)\n",
    "model.save_weights('dvc_0.h5')  # always save your weights after training or during training"
   ]
  },
  {
   "cell_type": "markdown",
   "metadata": {},
   "source": [
    "# VGG16 bottleneck"
   ]
  },
  {
   "cell_type": "code",
   "execution_count": 2,
   "metadata": {},
   "outputs": [
    {
     "name": "stderr",
     "output_type": "stream",
     "text": [
      "/Users/imperatore/anaconda3/lib/python3.6/site-packages/h5py/__init__.py:36: FutureWarning: Conversion of the second argument of issubdtype from `float` to `np.floating` is deprecated. In future, it will be treated as `np.float64 == np.dtype(float).type`.\n",
      "  from ._conv import register_converters as _register_converters\n",
      "Using TensorFlow backend.\n"
     ]
    }
   ],
   "source": [
    "from keras.applications.vgg16 import VGG16  \n",
    "model = VGG16(weights='imagenet', include_top=False) "
   ]
  },
  {
   "cell_type": "code",
   "execution_count": 92,
   "metadata": {},
   "outputs": [],
   "source": [
    "model.save_weights('VGG16_WEIGHTS.h5')"
   ]
  },
  {
   "cell_type": "code",
   "execution_count": 5,
   "metadata": {},
   "outputs": [],
   "source": [
    "datagen = ImageDataGenerator(\n",
    "            rotation_range=0.2,\n",
    "            width_shift_range=0.2,\n",
    "            height_shift_range=0.2,\n",
    "            shear_range=0.2,\n",
    "            zoom_range=0.2,\n",
    "            horizontal_flip=True,\n",
    "            fill_mode='nearest')"
   ]
  },
  {
   "cell_type": "code",
   "execution_count": 6,
   "metadata": {},
   "outputs": [
    {
     "name": "stdout",
     "output_type": "stream",
     "text": [
      "Found 24000 images belonging to 2 classes.\n"
     ]
    }
   ],
   "source": [
    "train_generator = datagen.flow_from_directory(\n",
    "            '../../../../assets/dogvscat/train/',\n",
    "            target_size=(150, 150),\n",
    "            batch_size=32,\n",
    "            shuffle=False)"
   ]
  },
  {
   "cell_type": "code",
   "execution_count": 11,
   "metadata": {},
   "outputs": [],
   "source": [
    "bottleneck_features_train = model.predict_generator(train_generator, len(train_generator))"
   ]
  },
  {
   "cell_type": "code",
   "execution_count": 100,
   "metadata": {},
   "outputs": [],
   "source": [
    "# np.save(open('bottleneck_features_train.npy', 'wb'), bottleneck_features_train)\n",
    "# np.save('bottleneck_features_train.npy', bottleneck_features_train)"
   ]
  },
  {
   "cell_type": "code",
   "execution_count": 8,
   "metadata": {},
   "outputs": [
    {
     "name": "stdout",
     "output_type": "stream",
     "text": [
      "Found 992 images belonging to 2 classes.\n"
     ]
    }
   ],
   "source": [
    "val_generator = datagen.flow_from_directory(\n",
    "            '../../../../assets/dogvscat/val/',\n",
    "            target_size=(150, 150),\n",
    "            batch_size=32,\n",
    "            shuffle=False)"
   ]
  },
  {
   "cell_type": "code",
   "execution_count": 12,
   "metadata": {},
   "outputs": [],
   "source": [
    "bottleneck_features_validation = model.predict_generator(val_generator, len(val_generator))"
   ]
  },
  {
   "cell_type": "code",
   "execution_count": 103,
   "metadata": {},
   "outputs": [],
   "source": [
    "# np.save(open('bottleneck_features_validation.npy', 'wb'), bottleneck_features_validation)\n",
    "# np.save('bottleneck_features_validation.npy', bottleneck_features_validation)"
   ]
  },
  {
   "cell_type": "code",
   "execution_count": 13,
   "metadata": {},
   "outputs": [],
   "source": [
    "# train_data = np.load(open('bottleneck_features_train.npy', 'rb'))\n",
    "# train_data = np.load('bottleneck_features_train.npy')\n",
    "\n",
    "# the features were saved in order, so recreating the labels is easy\n",
    "# train_labels = np.array([0] * 1000 + [1] * 1000)\n",
    "train_labels = train_generator.classes\n",
    "# print(train_labels.shape)\n",
    "\n",
    "# validation_data = np.load(open('bottleneck_features_validation.npy', 'rb'))\n",
    "# validation_data = np.load('bottleneck_features_validation.npy')\n",
    "\n",
    "# validation_labels = np.array([0] * 400 + [1] * 400)\n",
    "validation_labels = val_generator.classes"
   ]
  },
  {
   "cell_type": "code",
   "execution_count": 16,
   "metadata": {},
   "outputs": [
    {
     "name": "stderr",
     "output_type": "stream",
     "text": [
      "/Users/imperatore/anaconda3/lib/python3.6/site-packages/keras/models.py:942: UserWarning: The `nb_epoch` argument in `fit` has been renamed `epochs`.\n",
      "  warnings.warn('The `nb_epoch` argument in `fit` '\n"
     ]
    },
    {
     "name": "stdout",
     "output_type": "stream",
     "text": [
      "Train on 24000 samples, validate on 992 samples\n",
      "Epoch 1/50\n",
      "24000/24000 [==============================] - 23s 947us/step - loss: 2.0748 - acc: 0.8644 - val_loss: 1.7393 - val_acc: 0.8901\n",
      "Epoch 2/50\n",
      "24000/24000 [==============================] - 18s 770us/step - loss: 1.5807 - acc: 0.8981 - val_loss: 2.1922 - val_acc: 0.8609\n",
      "Epoch 3/50\n",
      "24000/24000 [==============================] - 18s 750us/step - loss: 1.5061 - acc: 0.9039 - val_loss: 1.5893 - val_acc: 0.9002\n",
      "Epoch 4/50\n",
      "24000/24000 [==============================] - 17s 693us/step - loss: 1.4334 - acc: 0.9085 - val_loss: 1.4099 - val_acc: 0.9103\n",
      "Epoch 5/50\n",
      "24000/24000 [==============================] - 16s 685us/step - loss: 1.3682 - acc: 0.9132 - val_loss: 1.3555 - val_acc: 0.9103\n",
      "Epoch 6/50\n",
      "24000/24000 [==============================] - 17s 692us/step - loss: 1.3876 - acc: 0.9118 - val_loss: 1.5640 - val_acc: 0.9002\n",
      "Epoch 7/50\n",
      "24000/24000 [==============================] - 17s 698us/step - loss: 1.3059 - acc: 0.9165 - val_loss: 1.4363 - val_acc: 0.9073\n",
      "Epoch 8/50\n",
      "24000/24000 [==============================] - 16s 682us/step - loss: 1.2137 - acc: 0.9230 - val_loss: 1.7964 - val_acc: 0.8871\n",
      "Epoch 9/50\n",
      "24000/24000 [==============================] - 16s 686us/step - loss: 1.2915 - acc: 0.9185 - val_loss: 1.4726 - val_acc: 0.9062\n",
      "Epoch 10/50\n",
      "24000/24000 [==============================] - 17s 693us/step - loss: 1.2303 - acc: 0.9222 - val_loss: 1.4032 - val_acc: 0.9113\n",
      "Epoch 11/50\n",
      "24000/24000 [==============================] - 17s 688us/step - loss: 1.1921 - acc: 0.9244 - val_loss: 1.3110 - val_acc: 0.9183\n",
      "Epoch 12/50\n",
      "24000/24000 [==============================] - 17s 694us/step - loss: 1.1506 - acc: 0.9270 - val_loss: 1.4264 - val_acc: 0.9103\n",
      "Epoch 13/50\n",
      "24000/24000 [==============================] - 17s 696us/step - loss: 1.2473 - acc: 0.9211 - val_loss: 1.3774 - val_acc: 0.9123\n",
      "Epoch 14/50\n",
      "24000/24000 [==============================] - 17s 702us/step - loss: 1.1616 - acc: 0.9265 - val_loss: 1.3273 - val_acc: 0.9163\n",
      "Epoch 15/50\n",
      "24000/24000 [==============================] - 17s 690us/step - loss: 1.1581 - acc: 0.9270 - val_loss: 1.3636 - val_acc: 0.9143\n",
      "Epoch 16/50\n",
      "24000/24000 [==============================] - 16s 675us/step - loss: 1.1023 - acc: 0.9303 - val_loss: 1.3131 - val_acc: 0.9173\n",
      "Epoch 17/50\n",
      "24000/24000 [==============================] - 17s 688us/step - loss: 1.0823 - acc: 0.9317 - val_loss: 1.3650 - val_acc: 0.9143\n",
      "Epoch 18/50\n",
      "24000/24000 [==============================] - 17s 699us/step - loss: 1.1553 - acc: 0.9271 - val_loss: 1.4105 - val_acc: 0.9113\n",
      "Epoch 19/50\n",
      "24000/24000 [==============================] - 16s 677us/step - loss: 1.1287 - acc: 0.9288 - val_loss: 1.3198 - val_acc: 0.9163\n",
      "Epoch 20/50\n",
      "24000/24000 [==============================] - 17s 689us/step - loss: 1.1521 - acc: 0.9270 - val_loss: 1.3032 - val_acc: 0.9173\n",
      "Epoch 21/50\n",
      "24000/24000 [==============================] - 17s 696us/step - loss: 1.1047 - acc: 0.9303 - val_loss: 1.2681 - val_acc: 0.9194\n",
      "Epoch 22/50\n",
      "24000/24000 [==============================] - 16s 677us/step - loss: 1.1449 - acc: 0.9277 - val_loss: 1.2796 - val_acc: 0.9204\n",
      "Epoch 23/50\n",
      "24000/24000 [==============================] - 16s 683us/step - loss: 1.1393 - acc: 0.9283 - val_loss: 1.3931 - val_acc: 0.9103\n",
      "Epoch 24/50\n",
      "24000/24000 [==============================] - 17s 691us/step - loss: 1.0645 - acc: 0.9328 - val_loss: 1.3191 - val_acc: 0.9173\n",
      "Epoch 25/50\n",
      "24000/24000 [==============================] - 16s 657us/step - loss: 1.0510 - acc: 0.9337 - val_loss: 1.2772 - val_acc: 0.9194\n",
      "Epoch 26/50\n",
      "24000/24000 [==============================] - 16s 677us/step - loss: 1.1224 - acc: 0.9296 - val_loss: 1.1756 - val_acc: 0.9264\n",
      "Epoch 27/50\n",
      "24000/24000 [==============================] - 16s 687us/step - loss: 1.0708 - acc: 0.9325 - val_loss: 1.4206 - val_acc: 0.9103\n",
      "Epoch 28/50\n",
      "24000/24000 [==============================] - 16s 681us/step - loss: 1.1246 - acc: 0.9291 - val_loss: 1.3497 - val_acc: 0.9153\n",
      "Epoch 29/50\n",
      "24000/24000 [==============================] - 16s 686us/step - loss: 1.0409 - acc: 0.9343 - val_loss: 1.4002 - val_acc: 0.9113\n",
      "Epoch 30/50\n",
      "24000/24000 [==============================] - 16s 676us/step - loss: 1.0129 - acc: 0.9360 - val_loss: 1.2944 - val_acc: 0.9183\n",
      "Epoch 31/50\n",
      "24000/24000 [==============================] - 16s 683us/step - loss: 1.0039 - acc: 0.9369 - val_loss: 1.2330 - val_acc: 0.9224\n",
      "Epoch 32/50\n",
      "24000/24000 [==============================] - 17s 694us/step - loss: 1.0022 - acc: 0.9370 - val_loss: 1.2788 - val_acc: 0.9204\n",
      "Epoch 33/50\n",
      "24000/24000 [==============================] - 16s 687us/step - loss: 1.1430 - acc: 0.9280 - val_loss: 1.4603 - val_acc: 0.9083\n",
      "Epoch 34/50\n",
      "24000/24000 [==============================] - 16s 681us/step - loss: 1.0285 - acc: 0.9351 - val_loss: 1.2303 - val_acc: 0.9214\n",
      "Epoch 35/50\n",
      "24000/24000 [==============================] - 17s 709us/step - loss: 0.9968 - acc: 0.9373 - val_loss: 1.4127 - val_acc: 0.9103\n",
      "Epoch 36/50\n",
      "24000/24000 [==============================] - 16s 681us/step - loss: 1.0525 - acc: 0.9338 - val_loss: 1.3460 - val_acc: 0.9153\n",
      "Epoch 37/50\n",
      "24000/24000 [==============================] - 16s 671us/step - loss: 0.9717 - acc: 0.9386 - val_loss: 1.2965 - val_acc: 0.9183\n",
      "Epoch 38/50\n",
      "24000/24000 [==============================] - 16s 672us/step - loss: 1.0640 - acc: 0.9329 - val_loss: 1.2591 - val_acc: 0.9204\n",
      "Epoch 39/50\n",
      "24000/24000 [==============================] - 16s 664us/step - loss: 1.0086 - acc: 0.9365 - val_loss: 1.2038 - val_acc: 0.9244\n",
      "Epoch 40/50\n",
      "24000/24000 [==============================] - 16s 674us/step - loss: 1.0159 - acc: 0.9358 - val_loss: 1.4067 - val_acc: 0.9113\n",
      "Epoch 41/50\n",
      "24000/24000 [==============================] - 17s 693us/step - loss: 1.0578 - acc: 0.9335 - val_loss: 1.1917 - val_acc: 0.9254\n",
      "Epoch 42/50\n",
      "24000/24000 [==============================] - 17s 705us/step - loss: 0.9950 - acc: 0.9373 - val_loss: 1.1651 - val_acc: 0.9264\n",
      "Epoch 43/50\n",
      "24000/24000 [==============================] - 17s 689us/step - loss: 0.9146 - acc: 0.9424 - val_loss: 1.2206 - val_acc: 0.9234\n",
      "Epoch 44/50\n",
      "24000/24000 [==============================] - 16s 680us/step - loss: 0.9837 - acc: 0.9380 - val_loss: 1.2682 - val_acc: 0.9194\n",
      "Epoch 45/50\n",
      "24000/24000 [==============================] - 17s 692us/step - loss: 0.9741 - acc: 0.9384 - val_loss: 1.1885 - val_acc: 0.9254\n",
      "Epoch 46/50\n",
      "24000/24000 [==============================] - 17s 698us/step - loss: 0.9115 - acc: 0.9425 - val_loss: 1.3793 - val_acc: 0.9133\n",
      "Epoch 47/50\n",
      "24000/24000 [==============================] - 16s 682us/step - loss: 0.9140 - acc: 0.9424 - val_loss: 1.1167 - val_acc: 0.9294\n",
      "Epoch 48/50\n",
      "24000/24000 [==============================] - 17s 688us/step - loss: 0.9485 - acc: 0.9404 - val_loss: 1.2477 - val_acc: 0.9214\n",
      "Epoch 49/50\n",
      "24000/24000 [==============================] - 17s 694us/step - loss: 0.9208 - acc: 0.9420 - val_loss: 1.3215 - val_acc: 0.9173\n",
      "Epoch 50/50\n",
      "24000/24000 [==============================] - 17s 702us/step - loss: 0.9020 - acc: 0.9432 - val_loss: 1.2153 - val_acc: 0.9234\n"
     ]
    }
   ],
   "source": [
    "md = Sequential()\n",
    "md.add(Flatten(input_shape=bottleneck_features_train.shape[1:]))\n",
    "md.add(Dense(256, activation='relu', input_shape=bottleneck_features_train.shape[1:]))\n",
    "md.add(Dropout(0.5))\n",
    "md.add(Dense(1, activation='sigmoid'))\n",
    "    \n",
    "md.compile(optimizer='rmsprop',\n",
    "              loss='binary_crossentropy',\n",
    "              metrics=['accuracy'])\n",
    "\n",
    "md.fit(bottleneck_features_train, train_labels,\n",
    "          nb_epoch=50, batch_size=32,\n",
    "          validation_data=(bottleneck_features_validation, validation_labels))\n",
    "md.save_weights('bottleneck_fc_model.h5')"
   ]
  },
  {
   "cell_type": "code",
   "execution_count": 21,
   "metadata": {},
   "outputs": [
    {
     "data": {
      "text/plain": [
       "array([[1.]], dtype=float32)"
      ]
     },
     "execution_count": 21,
     "metadata": {},
     "output_type": "execute_result"
    }
   ],
   "source": [
    "bottleneck_features_train.shape\n",
    "md.predict(bottleneck_features_train[18000:18001])"
   ]
  },
  {
   "cell_type": "code",
   "execution_count": null,
   "metadata": {},
   "outputs": [],
   "source": []
  }
 ],
 "metadata": {
  "kernelspec": {
   "display_name": "Python 3",
   "language": "python",
   "name": "python3"
  },
  "language_info": {
   "codemirror_mode": {
    "name": "ipython",
    "version": 3
   },
   "file_extension": ".py",
   "mimetype": "text/x-python",
   "name": "python",
   "nbconvert_exporter": "python",
   "pygments_lexer": "ipython3",
   "version": "3.6.4"
  }
 },
 "nbformat": 4,
 "nbformat_minor": 2
}
