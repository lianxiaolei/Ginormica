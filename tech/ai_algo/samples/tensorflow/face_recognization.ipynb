{
 "cells": [
  {
   "cell_type": "code",
   "execution_count": 0,
   "metadata": {
    "colab": {
     "autoexec": {
      "startup": false,
      "wait_interval": 0.0
     }
    },
    "colab_type": "code",
    "collapsed": true,
    "id": "Kq-rCR4TXVB0"
   },
   "outputs": [],
   "source": [
    "!apt-get -qq install -y libsm6 libxext6 && pip install -q -U opencv-python"
   ]
  },
  {
   "cell_type": "code",
   "execution_count": 0,
   "metadata": {
    "colab": {
     "autoexec": {
      "startup": false,
      "wait_interval": 0.0
     }
    },
    "colab_type": "code",
    "collapsed": true,
    "id": "d_xZu_SEA6Kh"
   },
   "outputs": [],
   "source": [
    "!apt-get install build-essential cmake -y\n",
    "!apt-get install libgtk-3-dev -y\n",
    "!apt-get install libboost-all-dev -y\n",
    "!wget https://bootstrap.pypa.io/get-pip.py\n",
    "!python get-pip.py\n",
    "!pip install dlib"
   ]
  },
  {
   "cell_type": "code",
   "execution_count": 0,
   "metadata": {
    "colab": {
     "autoexec": {
      "startup": false,
      "wait_interval": 0.0
     }
    },
    "colab_type": "code",
    "collapsed": true,
    "id": "FQYUj8vqRgCC"
   },
   "outputs": [],
   "source": [
    "!apt-get install -y -qq software-properties-common python-software-properties module-init-tools\n",
    "!add-apt-repository -y ppa:alessandro-strada/ppa 2>&1 > /dev/null\n",
    "!apt-get update -qq 2>&1 > /dev/null\n",
    "!apt-get -y install -qq google-drive-ocamlfuse fuse\n",
    "from google.colab import auth\n",
    "auth.authenticate_user()\n",
    "from oauth2client.client import GoogleCredentials\n",
    "creds = GoogleCredentials.get_application_default()\n",
    "import getpass\n",
    "!google-drive-ocamlfuse -headless -id={creds.client_id} -secret={creds.client_secret} < /dev/null 2>&1 | grep URL\n",
    "vcode = getpass.getpass()\n",
    "!echo {vcode} | google-drive-ocamlfuse -headless -id={creds.client_id} -secret={creds.client_secret}"
   ]
  },
  {
   "cell_type": "code",
   "execution_count": 0,
   "metadata": {
    "colab": {
     "autoexec": {
      "startup": false,
      "wait_interval": 0.0
     }
    },
    "colab_type": "code",
    "collapsed": true,
    "id": "FNn18fpjdjiu"
   },
   "outputs": [],
   "source": [
    "!mkdir -p colab_data\n",
    "!google-drive-ocamlfuse -o nonempty colab_data"
   ]
  },
  {
   "cell_type": "code",
   "execution_count": 0,
   "metadata": {
    "colab": {
     "autoexec": {
      "startup": false,
      "wait_interval": 0.0
     }
    },
    "colab_type": "code",
    "collapsed": true,
    "id": "VqcjRy5nvY4W"
   },
   "outputs": [],
   "source": [
    "# !wget http://vis-www.cs.umass.edu/lfw/lfw.tgz\n",
    "# !tar zxvf lfw.tgz\n",
    "# !rm lfw.tgz\n",
    "# !mv -rf lfw cbdatas"
   ]
  },
  {
   "cell_type": "code",
   "execution_count": 0,
   "metadata": {
    "colab": {
     "autoexec": {
      "startup": false,
      "wait_interval": 0.0
     }
    },
    "colab_type": "code",
    "collapsed": true,
    "id": "6lwVHJv1Z7KI"
   },
   "outputs": [],
   "source": [
    "# !mkdir -p wf\n",
    "\n",
    "# !wget http://ww3.sinaimg.cn/large/00711cMmly1folvw6u79nj306o08w74k.jpg\n",
    "# !wget http://ww2.sinaimg.cn/large/00711cMmly1folvw6voqbj306o08wjsd.jpg\n",
    "# !wget http://ww4.sinaimg.cn/large/00711cMmly1folvw7oyumj30ga0kfq4t.jpg\n",
    "# !wget http://ww4.sinaimg.cn/large/00711cMmly1folvw88hozj30ku0t6wq3.jpg\n",
    "# !wget http://ww3.sinaimg.cn/large/00711cMmly1folvw9nom5j30pu106tn5.jpg\n",
    "# !wget http://ww1.sinaimg.cn/large/00711cMmly1folvwbrzvpj30ku0t64mc.jpg\n",
    "# !wget http://ww1.sinaimg.cn/large/00711cMmly1folvwcf5kej30pu1067wh.jpg\n",
    "\n",
    "# !mv *.jpg wf\n",
    "# !mv -r wf colab_data/cbdatas"
   ]
  },
  {
   "cell_type": "markdown",
   "metadata": {
    "colab_type": "text",
    "id": "UmsFEXQtbo28"
   },
   "source": [
    "---"
   ]
  },
  {
   "cell_type": "code",
   "execution_count": 0,
   "metadata": {
    "colab": {
     "autoexec": {
      "startup": false,
      "wait_interval": 0.0
     }
    },
    "colab_type": "code",
    "collapsed": true,
    "id": "NS9y2gtTWni_"
   },
   "outputs": [],
   "source": [
    "import tensorflow as tf\n",
    "import cv2\n",
    "import numpy as np\n",
    "import os\n",
    "import random\n",
    "import sys\n",
    "import dlib\n",
    "from sklearn.model_selection import train_test_split\n",
    "from PIL import Image, ImageFilter\n",
    "import matplotlib.pyplot as plt # plt 用于显示图片\n",
    "import matplotlib.image as mpimg # mpimg 用于读取图片\n",
    "%matplotlib inline"
   ]
  },
  {
   "cell_type": "markdown",
   "metadata": {
    "colab_type": "text",
    "id": "tB2t1jr5nW43"
   },
   "source": [
    "---"
   ]
  },
  {
   "cell_type": "code",
   "execution_count": 0,
   "metadata": {
    "colab": {
     "autoexec": {
      "startup": false,
      "wait_interval": 0.0
     }
    },
    "colab_type": "code",
    "collapsed": true,
    "id": "Ie6dJ20_9L4Z"
   },
   "outputs": [],
   "source": [
    "#使用dlib自带的frontal_face_detector作为我们的特征提取器\n",
    "detector = dlib.get_frontal_face_detector()"
   ]
  },
  {
   "cell_type": "code",
   "execution_count": 0,
   "metadata": {
    "colab": {
     "autoexec": {
      "startup": false,
      "wait_interval": 0.0
     }
    },
    "colab_type": "code",
    "collapsed": true,
    "id": "TAbS73bsTKSn"
   },
   "outputs": [],
   "source": [
    "# 截取照片中的脸保存为图像\n",
    "def get_face(input_dir, output_dir):\n",
    "  if not os.path.exists(output_dir):\n",
    "    os.makedirs(output_dir)\n",
    "    \n",
    "  index = 1\n",
    "  for (path, dirnames, filenames) in os.walk(input_dir):\n",
    "\n",
    "    for filename in filenames:\n",
    "      print filename\n",
    "      if filename.endswith('.jpg'):\n",
    "        print 'Being processed picture %s' % index\n",
    "        img_path = path+'/'+filename\n",
    "        img = cv2.imread(img_path)\n",
    "        gray_img = cv2.cvtColor(img, cv2.COLOR_BGR2GRAY)  # 转为灰度图片\n",
    "        # 使用detector进行人脸检测 dets为返回的结果\n",
    "        dets = detector(gray_img, 1)\n",
    "\n",
    "        #使用enumerate 函数遍历序列中的元素以及它们的下标\n",
    "        #下标i即为人脸序号\n",
    "        #left：人脸左边距离图片左边界的距离 ；right：人脸右边距离图片左边界的距离 \n",
    "        #top：人脸上边距离图片上边界的距离 ；bottom：人脸下边距离图片上边界的距离\n",
    "        for i, d in enumerate(dets):\n",
    "          x1 = d.top() if d.top() > 0 else 0\n",
    "          y1 = d.bottom() if d.bottom() > 0 else 0\n",
    "          x2 = d.left() if d.left() > 0 else 0\n",
    "          y2 = d.right() if d.right() > 0 else 0\n",
    "\n",
    "          # img[y:y+h,x:x+w]\n",
    "          face = img[x1:y1, x2:y2]\n",
    "          face = cv2.resize(face, (size, size))\n",
    "  #         plt.imshow(face)\n",
    "          cv2.imwrite(output_dir+'/'+str(index)+'.jpg', face)\n",
    "          index += 1   \n",
    "  #   if index > 2:\n",
    "  #     break \n",
    "  plt.show()\n",
    "  print 'done'\n"
   ]
  },
  {
   "cell_type": "code",
   "execution_count": 0,
   "metadata": {
    "colab": {
     "autoexec": {
      "startup": false,
      "wait_interval": 0.0
     }
    },
    "colab_type": "code",
    "collapsed": true,
    "id": "T4yJEycbKXk9"
   },
   "outputs": [],
   "source": [
    "size = 64\n",
    "\n",
    "input_dir = 'colab_data/cbdatas/wf'\n",
    "output_dir = 'colab_data/cbdatas/my'\n",
    "get_face(input_dir, output_dir)\n",
    "\n",
    "input_dir = 'colab_data/cbdatas/fw'\n",
    "output_dir = 'colab_data/cbdatas/others'\n",
    "get_face(input_dir, output_dir)"
   ]
  },
  {
   "cell_type": "markdown",
   "metadata": {
    "colab_type": "text",
    "id": "P9_yATQxl5bW"
   },
   "source": [
    "---"
   ]
  },
  {
   "cell_type": "code",
   "execution_count": 0,
   "metadata": {
    "colab": {
     "autoexec": {
      "startup": false,
      "wait_interval": 0.0
     }
    },
    "colab_type": "code",
    "collapsed": true,
    "id": "1kENnTLWPAVG"
   },
   "outputs": [],
   "source": [
    "my_faces_path = 'colab_data/cbdatas/my'\n",
    "other_faces_path = 'colab_data/cbdatas/others'\n",
    "size = 64"
   ]
  },
  {
   "cell_type": "code",
   "execution_count": 0,
   "metadata": {
    "colab": {
     "autoexec": {
      "startup": false,
      "wait_interval": 0.0
     }
    },
    "colab_type": "code",
    "collapsed": true,
    "id": "yMCz8oz4Xwj5"
   },
   "outputs": [],
   "source": [
    "def getPaddingSize(img):\n",
    "    h, w, _ = img.shape\n",
    "    top, bottom, left, right = (0,0,0,0)\n",
    "    longest = max(h, w)\n",
    "\n",
    "    if w < longest:\n",
    "        tmp = longest - w\n",
    "        # //表示整除符号\n",
    "        left = tmp // 2\n",
    "        right = tmp - left\n",
    "    elif h < longest:\n",
    "        tmp = longest - h\n",
    "        top = tmp // 2\n",
    "        bottom = tmp - top\n",
    "    else:\n",
    "        pass\n",
    "    return top, bottom, left, right"
   ]
  },
  {
   "cell_type": "code",
   "execution_count": 0,
   "metadata": {
    "colab": {
     "autoexec": {
      "startup": false,
      "wait_interval": 0.0
     }
    },
    "colab_type": "code",
    "collapsed": true,
    "id": "xFVWpWWMYVz2"
   },
   "outputs": [],
   "source": [
    "def readData(path , h=size, w=size):\n",
    "    for filename in os.listdir(path):\n",
    "        if filename.endswith('.jpg'):\n",
    "            filename = path + '/' + filename\n",
    "\n",
    "            img = cv2.imread(filename)\n",
    "\n",
    "            top,bottom,left,right = getPaddingSize(img)\n",
    "            # 将图片放大， 扩充图片边缘部分\n",
    "            img = cv2.copyMakeBorder(img, top, bottom, left, right, cv2.BORDER_CONSTANT, value=[0,0,0])\n",
    "            img = cv2.resize(img, (h, w))\n",
    "\n",
    "            imgs.append(img)\n",
    "            labs.append(path)"
   ]
  },
  {
   "cell_type": "code",
   "execution_count": 26,
   "metadata": {
    "colab": {
     "autoexec": {
      "startup": false,
      "wait_interval": 0.0
     },
     "base_uri": "https://localhost:8080/",
     "height": 52.0,
     "output_extras": [
      {
       "item_id": 2.0
      }
     ]
    },
    "colab_type": "code",
    "collapsed": false,
    "executionInfo": {
     "elapsed": 4241.0,
     "status": "ok",
     "timestamp": 1.519130779872E12,
     "user": {
      "displayName": "连晓磊",
      "photoUrl": "//lh3.googleusercontent.com/-W7z7j8H9tvA/AAAAAAAAAAI/AAAAAAAAB_g/sDoZ3Ih2yks/s50-c-k-no/photo.jpg",
      "userId": "100080853478067367847"
     },
     "user_tz": -480.0
    },
    "id": "iqFueIvfaOg2",
    "outputId": "06d9cc0e-fc25-433c-ff5b-9ffedb6c951d"
   },
   "outputs": [
    {
     "name": "stdout",
     "output_type": "stream",
     "text": [
      "7\n",
      "143\n"
     ]
    }
   ],
   "source": [
    "imgs = []\n",
    "labs = []\n",
    "readData(my_faces_path)\n",
    "print len(labs)\n",
    "readData(other_faces_path)\n",
    "print len(labs)"
   ]
  },
  {
   "cell_type": "code",
   "execution_count": 27,
   "metadata": {
    "colab": {
     "autoexec": {
      "startup": false,
      "wait_interval": 0.0
     },
     "base_uri": "https://localhost:8080/",
     "height": 35.0,
     "output_extras": [
      {
       "item_id": 1.0
      }
     ]
    },
    "colab_type": "code",
    "collapsed": false,
    "executionInfo": {
     "elapsed": 871.0,
     "status": "ok",
     "timestamp": 1.519130804361E12,
     "user": {
      "displayName": "连晓磊",
      "photoUrl": "//lh3.googleusercontent.com/-W7z7j8H9tvA/AAAAAAAAAAI/AAAAAAAAB_g/sDoZ3Ih2yks/s50-c-k-no/photo.jpg",
      "userId": "100080853478067367847"
     },
     "user_tz": -480.0
    },
    "id": "t-2fJkK_aWpO",
    "outputId": "417ef992-786b-4d13-bc5a-2b2ff1969f26"
   },
   "outputs": [
    {
     "name": "stdout",
     "output_type": "stream",
     "text": [
      "train size:114, test size:29\n"
     ]
    }
   ],
   "source": [
    "# 将图片数据与标签转换成数组\n",
    "imgs = np.array(imgs)\n",
    "labs = np.array([[0,1] if lab == my_faces_path else [1,0] for lab in labs])\n",
    "\n",
    "# 随机划分测试集与训练集\n",
    "train_x,test_x,train_y,test_y = train_test_split(imgs, labs, test_size=0.2, random_state=0)\n",
    "\n",
    "# 参数：图片数据的总数，图片的高、宽、通道\n",
    "train_x = train_x.reshape(train_x.shape[0], size, size, 3)\n",
    "test_x = test_x.reshape(test_x.shape[0], size, size, 3)\n",
    "\n",
    "# 将数据转换成小于1的数\n",
    "train_x = train_x.astype('float32')/255.0\n",
    "test_x = test_x.astype('float32')/255.0\n",
    "print('train size:%s, test size:%s' % (len(train_x), len(test_x)))"
   ]
  },
  {
   "cell_type": "code",
   "execution_count": 0,
   "metadata": {
    "colab": {
     "autoexec": {
      "startup": false,
      "wait_interval": 0.0
     }
    },
    "colab_type": "code",
    "collapsed": true,
    "id": "iHUWJCrZkhjz"
   },
   "outputs": [],
   "source": [
    "# 图片块，每次取100张图片\n",
    "batch_size = 10\n",
    "num_batch = len(train_x) // batch_size\n",
    "x = tf.placeholder(tf.float32, [None, size, size, 3])\n",
    "y_ = tf.placeholder(tf.float32, [None, 2])\n",
    "keep_prob_5 = tf.placeholder(tf.float32)\n",
    "keep_prob_75 = tf.placeholder(tf.float32)"
   ]
  },
  {
   "cell_type": "code",
   "execution_count": 0,
   "metadata": {
    "colab": {
     "autoexec": {
      "startup": false,
      "wait_interval": 0.0
     }
    },
    "colab_type": "code",
    "collapsed": true,
    "id": "uBNZkKQFooHS"
   },
   "outputs": [],
   "source": [
    "def weightVariable(shape):\n",
    "    init = tf.random_normal(shape, stddev=0.01)\n",
    "    return tf.Variable(init)\n",
    "\n",
    "def biasVariable(shape):\n",
    "    init = tf.random_normal(shape)\n",
    "    return tf.Variable(init)\n",
    "  \n",
    "def conv2d(x, W):\n",
    "    return tf.nn.conv2d(x, W, strides=[1,1,1,1], padding='SAME')  # N,H,W,C\n",
    "\n",
    "def maxPool(x):\n",
    "    return tf.nn.max_pool(x, ksize=[1,2,2,1], strides=[1,2,2,1], padding='SAME')  # ksize 池化窗口大小\n",
    "\n",
    "def dropout(x, keep):\n",
    "    return tf.nn.dropout(x, keep)\n",
    "  \n",
    "def cnn_layer():\n",
    "    '''第一层'''\n",
    "    W1 = weightVariable([3, 3, 3, 32])# 卷积核大小(3,3)， 输入通道(3)， 输出通道(32)\n",
    "    b1 = biasVariable([32])\n",
    "    # 卷积\n",
    "    conv1 = tf.nn.relu(conv2d(x, W1) + b1)\n",
    "    # 池化\n",
    "    pool1 = maxPool(conv1)\n",
    "    # 减少过拟合，随机让某些权重不更新\n",
    "    drop1 = dropout(pool1, keep_prob_5)\n",
    "    \n",
    "    '''第二层'''\n",
    "    W2 = weightVariable([3,3,32,64])\n",
    "    b2 = biasVariable([64])\n",
    "    conv2 = tf.nn.relu(conv2d(drop1, W2) + b2)\n",
    "    pool2 = maxPool(conv2)\n",
    "    drop2 = dropout(pool2, keep_prob_5)\n",
    "\n",
    "    '''第三层'''\n",
    "    W3 = weightVariable([3,3,64,64])\n",
    "    b3 = biasVariable([64])\n",
    "    conv3 = tf.nn.relu(conv2d(drop2, W3) + b3)\n",
    "    pool3 = maxPool(conv3)\n",
    "    drop3 = dropout(pool3, keep_prob_5)\n",
    "    \n",
    "    '''全连接层'''\n",
    "    Wf = weightVariable([8 * 16 * 32,  512])\n",
    "    bf = biasVariable([512])\n",
    "    drop3_flat = tf.reshape(drop3, [-1, 8 * 16 * 32])\n",
    "    dense = tf.nn.relu(tf.matmul(drop3_flat, Wf) + bf)\n",
    "    dropf = dropout(dense, keep_prob_75)\n",
    "    \n",
    "    '''输出层'''\n",
    "    Wout = weightVariable([512, 2])\n",
    "    bout = weightVariable([2])\n",
    "    out = tf.add(tf.matmul(dropf, Wout), bout)\n",
    "    return out"
   ]
  },
  {
   "cell_type": "code",
   "execution_count": 0,
   "metadata": {
    "colab": {
     "autoexec": {
      "startup": false,
      "wait_interval": 0.0
     }
    },
    "colab_type": "code",
    "collapsed": true,
    "id": "mxEVqiPAsTR6"
   },
   "outputs": [],
   "source": [
    "def cnn_train():\n",
    "  out = cnn_layer()\n",
    "  \n",
    "  # 交叉熵损失\n",
    "  cross_entropy = tf.reduce_mean(tf.nn.softmax_cross_entropy_with_logits(logits=out, labels=y_))\n",
    "  \n",
    "  # 优化\n",
    "  train_step = tf.train.AdamOptimizer(0.01).minimize(cross_entropy)\n",
    "  \n",
    "  # 精确度\n",
    "  accuracy = tf.reduce_mean(tf.cast(\n",
    "      tf.equal(tf.argmax(out, 1), tf.argmax(y_, 1)), \n",
    "      tf.float32))  # cast 转换类型\n",
    "  \n",
    "  # 将loss与accuracy保存以供tensorboard使用\n",
    "  tf.summary.scalar('loss', cross_entropy)\n",
    "  tf.summary.scalar('accuracy', accuracy)\n",
    "  merged_summary_op = tf.summary.merge_all()\n",
    "  \n",
    "  # 数据保存器的初始化\n",
    "  saver = tf.train.Saver()\n",
    "  \n",
    "  with tf.Session() as sess:\n",
    "    sess.run(tf.global_variables_initializer())\n",
    "    \n",
    "    # 百脸懵逼\n",
    "    summary_writer = tf.summary.FileWriter('./tmp', graph=tf.get_default_graph())\n",
    "    \n",
    "    for n in range(10):\n",
    "      # 每次取128(batch_size)张图片\n",
    "      for i in range(num_batch):\n",
    "        batch_x = train_x[i*batch_size : (i+1)*batch_size]\n",
    "        batch_y = train_y[i*batch_size : (i+1)*batch_size]\n",
    "        # 开始训练数据，同时训练三个变量，返回三个数据\n",
    "        _,loss,summary = sess.run(\n",
    "            [train_step, cross_entropy, merged_summary_op], \n",
    "            feed_dict={x:batch_x,y_:batch_y, keep_prob_5:0.5,keep_prob_75:0.75})\n",
    "        \n",
    "        summary_writer.add_summary(summary, n*num_batch+i)\n",
    "        \n",
    "        # 打印损失\n",
    "        if (n*num_batch+i) % 30 == 0:\n",
    "          # 获取测试数据的准确率\n",
    "          acc = accuracy.eval(\n",
    "              {x:test_x, y_:test_y, keep_prob_5:1.0, keep_prob_75:1.0})\n",
    "          print(n*num_batch+i, acc)\n",
    "          \n",
    "          # 准确率大于0.98时保存并退出\n",
    "          if acc > 0.98 and n > 2:\n",
    "            saver.save(sess, 'colab_data/cbdatas/train_faces.model', global_step=n*num_batch+i)\n",
    "            \n",
    "    print('accuracy less 0.98, exited!')"
   ]
  },
  {
   "cell_type": "code",
   "execution_count": 41,
   "metadata": {
    "colab": {
     "autoexec": {
      "startup": false,
      "wait_interval": 0.0
     },
     "base_uri": "https://localhost:8080/",
     "height": 103.0,
     "output_extras": [
      {
       "item_id": 5.0
      }
     ]
    },
    "colab_type": "code",
    "collapsed": false,
    "executionInfo": {
     "elapsed": 53638.0,
     "status": "ok",
     "timestamp": 1.519141108707E12,
     "user": {
      "displayName": "连晓磊",
      "photoUrl": "//lh3.googleusercontent.com/-W7z7j8H9tvA/AAAAAAAAAAI/AAAAAAAAB_g/sDoZ3Ih2yks/s50-c-k-no/photo.jpg",
      "userId": "100080853478067367847"
     },
     "user_tz": -480.0
    },
    "id": "TCRtFphpU3Ch",
    "outputId": "2880085f-0186-44d6-9dda-196f41f119cf"
   },
   "outputs": [
    {
     "name": "stdout",
     "output_type": "stream",
     "text": [
      "(0, 1.0)\n",
      "(30, 1.0)\n",
      "(60, 1.0)\n",
      "(90, 1.0)\n",
      "accuracy less 0.98, exited!\n"
     ]
    }
   ],
   "source": [
    "cnn_train()"
   ]
  },
  {
   "cell_type": "markdown",
   "metadata": {
    "colab_type": "text",
    "id": "FBB9vY8MMyGE"
   },
   "source": [
    "### 使用模型进行识别任务"
   ]
  },
  {
   "cell_type": "code",
   "execution_count": 0,
   "metadata": {
    "colab": {
     "autoexec": {
      "startup": false,
      "wait_interval": 0.0
     }
    },
    "colab_type": "code",
    "collapsed": true,
    "id": "BxRT72lyawRy"
   },
   "outputs": [],
   "source": [
    "output = cnnLayer()  \n",
    "predict = tf.argmax(output, 1)  \n",
    "\n",
    "saver = tf.train.Saver()  \n",
    "sess = tf.Session()  \n",
    "saver.restore(sess, tf.train.latest_checkpoint('.'))  \n",
    "\n",
    "def is_my_face(image):  \n",
    "    res = sess.run(predict, feed_dict={x: [image/255.0], keep_prob_5:1.0, keep_prob_75: 1.0})  \n",
    "    if res[0] == 1:  \n",
    "        return True  \n",
    "    else:  \n",
    "        return False  \n",
    "\n",
    "#使用dlib自带的frontal_face_detector作为我们的特征提取器\n",
    "detector = dlib.get_frontal_face_detector()\n",
    "\n",
    "cam = cv2.VideoCapture(0)  \n",
    "\n",
    "while True:  \n",
    "    _, img = cam.read()  \n",
    "    gray_image = cv2.cvtColor(img, cv2.COLOR_BGR2GRAY)\n",
    "    dets = detector(gray_image, 1)\n",
    "    if not len(dets):\n",
    "        #print('Can`t get face.')\n",
    "        cv2.imshow('img', img)\n",
    "        key = cv2.waitKey(30) & 0xff  \n",
    "        if key == 27:\n",
    "            sys.exit(0)\n",
    "\n",
    "    for i, d in enumerate(dets):\n",
    "        x1 = d.top() if d.top() > 0 else 0\n",
    "        y1 = d.bottom() if d.bottom() > 0 else 0\n",
    "        x2 = d.left() if d.left() > 0 else 0\n",
    "        y2 = d.right() if d.right() > 0 else 0\n",
    "        face = img[x1:y1,x2:y2]\n",
    "        # 调整图片的尺寸\n",
    "        face = cv2.resize(face, (size,size))\n",
    "        print('Is this my face? %s' % is_my_face(face))\n",
    "\n",
    "        cv2.rectangle(img, (x2,x1),(y2,y1), (255,0,0),3)\n",
    "        cv2.imshow('image',img)\n",
    "        key = cv2.waitKey(30) & 0xff\n",
    "        if key == 27:\n",
    "            sys.exit(0)\n",
    "\n",
    "sess.close()"
   ]
  }
 ],
 "metadata": {
  "accelerator": "GPU",
  "colab": {
   "collapsed_sections": [],
   "default_view": {},
   "name": "face-recognization.ipynb",
   "provenance": [],
   "version": "0.3.2",
   "views": {}
  },
  "kernelspec": {
   "display_name": "Python 2",
   "language": "python",
   "name": "python2"
  },
  "language_info": {
   "codemirror_mode": {
    "name": "ipython",
    "version": 2
   },
   "file_extension": ".py",
   "mimetype": "text/x-python",
   "name": "python",
   "nbconvert_exporter": "python",
   "pygments_lexer": "ipython2",
   "version": "2.7.13"
  }
 },
 "nbformat": 4,
 "nbformat_minor": 0
}
